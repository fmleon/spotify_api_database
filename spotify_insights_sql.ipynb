{
 "cells": [
  {
   "cell_type": "code",
   "execution_count": null,
   "metadata": {},
   "outputs": [],
   "source": [
    "import sqlite3\n",
    "%run spotify_insights.ipynb"
   ]
  },
  {
   "cell_type": "code",
   "execution_count": null,
   "metadata": {},
   "outputs": [],
   "source": [
    "# CONNECT TO DATABASE\n",
    "conn = sqlite3.connect('spotify_insights_db')\n",
    "cursor = conn.cursor()"
   ]
  },
  {
   "cell_type": "code",
   "execution_count": null,
   "metadata": {},
   "outputs": [],
   "source": [
    "# ONLY EXECUTE ONCE. THIS CREATES THE TABLE FOR ARTISTS\n",
    "cursor.execute('''\n",
    "CREATE TABLE IF NOT EXISTS artists (\n",
    "    id TEXT PRIMARY KEY,\n",
    "    name TEXT,\n",
    "    genres TEXT,\n",
    "    followers INTEGER,\n",
    "    popularity INTEGER,\n",
    "    external_urls TEXT,\n",
    "    uri TEXT,\n",
    "    href TEXT\n",
    ")\n",
    "''')"
   ]
  },
  {
   "cell_type": "code",
   "execution_count": null,
   "metadata": {},
   "outputs": [],
   "source": [
    "# ONLY EXECUTE ONCE. THIS CREATES THE TABLE FOR PLAYLISTS\n",
    "cursor.execute('''CREATE TABLE IF NOT EXISTS playlist_artist (\n",
    "    id INTEGER PRIMARY KEY AUTOINCREMENT,\n",
    "    track_name TEXT,\n",
    "    track_id TEXT,\n",
    "    track_href TEXT,\n",
    "    track_uri TEXT,\n",
    "    artist_name TEXT,\n",
    "    artist_id TEXT,\n",
    "    artist_href TEXT,\n",
    "    artist_spotify_url TEXT\n",
    ")\n",
    "''')"
   ]
  },
  {
   "cell_type": "code",
   "execution_count": null,
   "metadata": {},
   "outputs": [],
   "source": [
    "# CREATE TABLE FOR PLAYLISTS\n",
    "cursor.execute('''CREATE TABLE IF NOT EXISTS playlist_list (\n",
    "    id INTEGER PRIMARY KEY AUTOINCREMENT,\n",
    "    playlist_name TEXT,\n",
    "    playlist_description TEXT,\n",
    "    playlist_tracks_href TEXT,\n",
    "    playlist_tracks INTEGER,\n",
    "    playlist_id TEXT,\n",
    "    playlist_uri TEXT\n",
    ")\n",
    "''')"
   ]
  },
  {
   "cell_type": "code",
   "execution_count": null,
   "metadata": {},
   "outputs": [],
   "source": [
    "for row in all_playlist_list_info:\n",
    "    cursor.execute('''\n",
    "    INSERT INTO playlist_list (\n",
    "        playlist_name,\n",
    "        playlist_description,\n",
    "        playlist_tracks_href,\n",
    "        playlist_tracks,\n",
    "        playlist_id,\n",
    "        playlist_uri\n",
    "    ) VALUES (?, ?, ?, ?, ?, ?)\n",
    "    ''', (\n",
    "        row['playlist_name'],\n",
    "        row['playlist_description'],\n",
    "        row['playlist_tracks_href'],\n",
    "        row['playlist_tracks'],\n",
    "        row['playlist_id'],\n",
    "        row['playlist_uri']\n",
    "    ))\n",
    "\n",
    "conn.commit()"
   ]
  },
  {
   "cell_type": "code",
   "execution_count": null,
   "metadata": {},
   "outputs": [],
   "source": [
    "# Insert data into playlist_artist\n",
    "for row in all_tracks_info:\n",
    "    cursor.execute('''\n",
    "        INSERT INTO playlist_artist (\n",
    "            track_name,\n",
    "            track_id,\n",
    "            track_href,\n",
    "            track_uri,\n",
    "            artist_name,\n",
    "            artist_id,\n",
    "            artist_href,\n",
    "            artist_spotify_url\n",
    "        ) VALUES (?, ?, ?, ?, ?, ?, ?, ?)\n",
    "    ''', (\n",
    "        row['track_name'],\n",
    "        row['track_id'],\n",
    "        row['track_href'],\n",
    "        row['track_uri'],\n",
    "        row['artist_name'],\n",
    "        row['artist_id'],\n",
    "        row['artist_href'],\n",
    "        row['artist_spotify_url']\n",
    "    ))\n",
    "\n",
    "conn.commit()"
   ]
  },
  {
   "cell_type": "code",
   "execution_count": null,
   "metadata": {},
   "outputs": [],
   "source": [
    "for row in artist_info:\n",
    "    cursor.execute('''\n",
    "    INSERT INTO artists (\n",
    "        id,\n",
    "        name,\n",
    "        genres,\n",
    "        followers,\n",
    "        popularity,\n",
    "        external_urls,\n",
    "        uri,\n",
    "        href\n",
    "    ) VALUES (?, ?, ?, ?, ?, ?, ?, ?)\n",
    "    ''', (\n",
    "        row['id'],\n",
    "        row['name'],\n",
    "        \", \".join(row['genres']) if isinstance(row['genres'], list) else row['genres'],\n",
    "        row['followers'],\n",
    "        row['popularity'],\n",
    "        row['external_urls'],\n",
    "        row['uri'],\n",
    "        row['href']\n",
    "    ))\n",
    "\n",
    "conn.commit()"
   ]
  },
  {
   "cell_type": "code",
   "execution_count": null,
   "metadata": {},
   "outputs": [],
   "source": [
    "# Fetch data from the database\n",
    "data = cursor.execute('SELECT * FROM artists').fetchall()\n",
    "\n",
    "# Extract column names from cursor.description\n",
    "columns = [description[0] for description in cursor.description]\n",
    "\n",
    "# Create the DataFrame\n",
    "playlist_list_table = pd.DataFrame(data, columns=columns)\n"
   ]
  },
  {
   "cell_type": "code",
   "execution_count": null,
   "metadata": {},
   "outputs": [],
   "source": [
    "# Display the first few rows of the DataFrame\n",
    "playlist_list_table.head(20)"
   ]
  },
  {
   "cell_type": "code",
   "execution_count": null,
   "metadata": {},
   "outputs": [],
   "source": [
    "# CLOSE DATABASE\n",
    "conn.close()"
   ]
  }
 ],
 "metadata": {
  "kernelspec": {
   "display_name": "minimal_ds",
   "language": "python",
   "name": "python3"
  },
  "language_info": {
   "codemirror_mode": {
    "name": "ipython",
    "version": 3
   },
   "file_extension": ".py",
   "mimetype": "text/x-python",
   "name": "python",
   "nbconvert_exporter": "python",
   "pygments_lexer": "ipython3",
   "version": "3.10.16"
  }
 },
 "nbformat": 4,
 "nbformat_minor": 2
}
